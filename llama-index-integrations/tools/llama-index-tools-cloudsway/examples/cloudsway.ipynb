{
 "cells": [
  {
   "cell_type": "markdown",
   "id": "f5ad4b34",
   "metadata": {},
   "source": [
    "# CloudswayTool for LlamaIndex\n",
    "\n",
    "This notebook provides a quick overview for getting started with the LlamaIndex `CloudswayToolSpec` integration."
   ]
  },
  {
   "cell_type": "markdown",
   "id": "52af732a",
   "metadata": {},
   "source": [
    "## Overview\n",
    "\n",
    "### Tool features\n",
    "- Keyword-based web search\n",
    "- Configurable result count, language, and safety level\n",
    "- Structured JSON output\n",
    "- No personal data collected"
   ]
  },
  {
   "cell_type": "markdown",
   "id": "88848538",
   "metadata": {},
   "source": [
    "## Setup\n",
    "\n",
    "Install the LlamaIndex Cloudsway tool package:"
   ]
  },
  {
   "cell_type": "code",
   "execution_count": null,
   "id": "1fbc5ab9",
   "metadata": {},
   "outputs": [],
   "source": [
    "%pip install llama-index-tools-cloudsway llama-index-core llama-index-llms-openai"
   ]
  },
  {
   "cell_type": "markdown",
   "id": "8c66e866",
   "metadata": {},
   "source": [
    "### Credentials\n",
    "\n",
    "Set your `CLOUDSWAY_SERVER_KEY` as an environment variable or enter it interactively:"
   ]
  },
  {
   "cell_type": "code",
   "execution_count": null,
   "id": "2b95bbd2",
   "metadata": {},
   "outputs": [],
   "source": [
    "import getpass\n",
    "import os\n",
    "\n",
    "if not os.environ.get(\"CLOUDSWAY_SERVER_KEY\"):\n",
    "    os.environ[\"CLOUDSWAY_SERVER_KEY\"] = getpass.getpass(\"CLOUDSWAY_SERVER_KEY:\\n\")"
   ]
  },
  {
   "cell_type": "markdown",
   "id": "963aaab9",
   "metadata": {},
   "source": [
    "## Instantiation\n",
    "\n",
    "Instantiate the `CloudswayToolSpec` tool:"
   ]
  },
  {
   "cell_type": "code",
   "execution_count": null,
   "id": "4a693b5f",
   "metadata": {},
   "outputs": [],
   "source": [
    "from llama_index.tools.cloudsway import CloudswayToolSpec\n",
    "\n",
    "tool = CloudswayToolSpec(server_key=os.environ[\"CLOUDSWAY_SERVER_KEY\"])\n",
    "tool_list = tool.to_tool_list()"
   ]
  },
  {
   "cell_type": "markdown",
   "id": "434a847b",
   "metadata": {},
   "source": [
    "| Name         | Type    | Required | Default   | Description                                                        |\n",
    "|--------------|---------|----------|-----------|--------------------------------------------------------------------|\n",
    "| `query`      | string  | Yes      | -         | Search keyword or question (e.g., \"Latest advances in AI 2024\")    |\n",
    "| `count`      | number  | No       | 10        | Number of results to return (1-50, recommended 3-10)               |\n",
    "| `offset`     | number  | No       | 0         | Pagination offset (e.g., offset=10 means start from result #11)    |\n",
    "| `setLang`    | string  | No       | \"en\"      | Language filter (e.g., \"zh-CN\", \"en\", \"ja\")                        |\n",
    "| `safeSearch` | string  | No       | \"Strict\"  | Content safety level: \"Strict\", \"Moderate\", or \"Off\"               |"
   ]
  },
  {
   "cell_type": "markdown",
   "id": "3e18f871",
   "metadata": {},
   "source": [
    "## Invocation\n",
    "\n",
    "### Direct invocation\n",
    "\n",
    "You can call the tool directly:"
   ]
  },
  {
   "cell_type": "code",
   "execution_count": null,
   "id": "597d856a",
   "metadata": {},
   "outputs": [],
   "source": [
    "import asyncio\n",
    "\n",
    "results = asyncio.run(tool.smartsearch(query=\"2024 global AI summit highlights\", count=10))\n",
    "print(results)"
   ]
  },
  {
   "cell_type": "markdown",
   "id": "3cb7738f",
   "metadata": {},
   "source": [
    "## Use within a LlamaIndex Agent\n",
    "\n",
    "You can use `CloudswayToolSpec` with a LlamaIndex agent. Here’s an example using OpenAI (make sure you have your OpenAI API key set):"
   ]
  },
  {
   "cell_type": "code",
   "execution_count": null,
   "id": "fff6e054",
   "metadata": {},
   "outputs": [],
   "source": [
    "from llama_index.core.agent import FunctionCallingAgent\n",
    "from llama_index.llms.openai import OpenAI\n",
    "\n",
    "agent = FunctionCallingAgent.from_tools(\n",
    "    tool_list,\n",
    "    llm=OpenAI(model=\"gpt-4o\"),\n",
    ")\n",
    "\n",
    "response = agent.chat(\"Show me recent peer-reviewed papers about autonomous vehicles from arxiv.org.\")\n",
    "print(response)"
   ]
  }
 ],
 "metadata": {
  "kernelspec": {
   "display_name": "llama-index-tools-cloudsway (3.11.13)",
   "language": "python",
   "name": "python3"
  },
  "language_info": {
   "codemirror_mode": {
    "name": "ipython",
    "version": 3
   },
   "file_extension": ".py",
   "mimetype": "text/x-python",
   "name": "python",
   "nbconvert_exporter": "python",
   "pygments_lexer": "ipython3"
  }
 },
 "nbformat": 4,
 "nbformat_minor": 5
}
